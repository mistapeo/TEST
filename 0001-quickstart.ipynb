{
 "cells": [
  {
   "cell_type": "markdown",
   "metadata": {},
   "source": [
    "# LightGBM Quick Start\n",
    "\n",
    "## Data Import\n",
    "\n",
    "LightGBM 파이썬 모듈이 사용할 수 있는 데이터 형식은 다음과 같다.\n",
    "\n",
    "- LibSVM (zero-based)/ TSV /CSV / TXT 형식\n",
    "- NumPy 2D array, pandas DataFrame, H2O Data Table's Frame, SciPy sparse matrix\n",
    "- LightGBM 바이너리 파일 \n",
    "\n",
    "데이터는 `Dataset` 오브젝트에 저장된다."
   ]
  },
  {
   "cell_type": "code",
   "execution_count": 1,
   "metadata": {},
   "outputs": [],
   "source": [
    "import numpy as np \n",
    "import pandas as pd\n",
    "import lightgbm as lgb "
   ]
  },
  {
   "cell_type": "markdown",
   "metadata": {},
   "source": [
    "- 파이썬 버전 확인하기"
   ]
  },
  {
   "cell_type": "code",
   "execution_count": 1,
   "metadata": {},
   "outputs": [
    {
     "output_type": "stream",
     "name": "stdout",
     "text": "3.8.3\n"
    }
   ],
   "source": [
    "from platform import python_version\n",
    "\n",
    "print(python_version())\n"
   ]
  },
  {
   "cell_type": "markdown",
   "metadata": {},
   "source": [
    "### 데이터 읽어오기 예\n",
    "\n",
    "- LibSVM 또는 LightGBM 바이너리\n",
    "<pre><code> train_data = lgb.Dataset('train.svm.bin')\n",
    "</code></pre>\n",
    "- numpy array\n",
    "<pre><code>\n",
    "data = np.random.rand(500, 10) # 10개의 feature를 갖는 500개의 entity\n",
    "label = np.random.randint(2, size=500) # binary target\n",
    "train_data = lgb.Dataset(data, label=label)\n",
    "</code></pre>\n",
    "- scipy.sparse.csr_matrix array "
   ]
  },
  {
   "cell_type": "code",
   "execution_count": 3,
   "metadata": {},
   "outputs": [],
   "source": [
    "# numpy array 데이터 읽어오기\n",
    "\n",
    "data = np.random.rand(500, 10) # 10개의 feature를 갖는 500개의 entity\n",
    "label = np.random.randint(2, size=500) # binary target\n",
    "train_data = lgb.Dataset(data, label=label)"
   ]
  },
  {
   "cell_type": "markdown",
   "metadata": {},
   "source": [
    "### Validation 데이터 만들기\n",
    "\n",
    "validataion 데이터는 다음과 같은 두 가지 방식으로 생성할 수 있다.\n",
    "\n",
    "- train 데이터의 `create_valid` 함수 이용\n",
    "<pre><code>\n",
    "validataion_data = train_data.create_valid('validation.svm')\n",
    "</code></pre>\n",
    "- `lgb.Dataset` 이용\n",
    "<pre><code>\n",
    "validataion_data = lgb.Dataset('validation.svm', reference=train_data)\n",
    "</code></pre>\n",
    "\n"
   ]
  },
  {
   "cell_type": "markdown",
   "metadata": {},
   "source": [
    "## 범주형 자료의 활용\n",
    "\n",
    "LightGBM은 범주형 자료를 직접 이용할 수 있다. (one-hot encoding이 필요 없으며, one-hot encoding과 비교하여 매우 빠르다 - 8배 정도...)\n",
    "\n",
    "- 범주형 자료를 직접 이용하려면 해당 feature를 정수형으로 만들어야 한다.\n",
    "<pre><code>\n",
    "train_data = lgb.Dataset(data, label=label, feature_name=['c1', 'c2', c'3'], categorical_feature=['c3'])\n",
    "</code></pre>"
   ]
  },
  {
   "cell_type": "code",
   "execution_count": null,
   "metadata": {},
   "outputs": [],
   "source": []
  }
 ],
 "metadata": {
  "language_info": {
   "name": "python",
   "codemirror_mode": {
    "name": "ipython",
    "version": 3
   },
   "version": "3.8.3-final"
  },
  "orig_nbformat": 2,
  "file_extension": ".py",
  "mimetype": "text/x-python",
  "name": "python",
  "npconvert_exporter": "python",
  "pygments_lexer": "ipython3",
  "version": 3,
  "kernelspec": {
   "name": "python38364bittreevenvd55b61efad664cc0821db14f1660d7ad",
   "display_name": "Python 3.8.3 64-bit ('tree': venv)"
  }
 },
 "nbformat": 4,
 "nbformat_minor": 2
}